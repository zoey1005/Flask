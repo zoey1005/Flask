{
 "cells": [
  {
   "cell_type": "code",
   "execution_count": 124,
   "id": "ce36213e-b244-43ad-b446-940c83b0e08f",
   "metadata": {},
   "outputs": [],
   "source": [
    "import pandas as pd\n",
    "from pandas import Series,DataFrame"
   ]
  },
  {
   "cell_type": "code",
   "execution_count": 129,
   "id": "9bd22642-e8fb-45fe-bbe0-cf36f1ebcf50",
   "metadata": {},
   "outputs": [],
   "source": [
    "data = pd.read_csv(\"main.csv\", encoding=\"utf-8\")\n",
    "comment = pd.read_csv(\"main_comment_split.csv\",encoding='utf-8')"
   ]
  },
  {
   "cell_type": "code",
   "execution_count": 191,
   "id": "51a77e37-a4aa-4562-9814-de9ef66a452f",
   "metadata": {},
   "outputs": [
    {
     "data": {
      "text/html": [
       "<div>\n",
       "<style scoped>\n",
       "    .dataframe tbody tr th:only-of-type {\n",
       "        vertical-align: middle;\n",
       "    }\n",
       "\n",
       "    .dataframe tbody tr th {\n",
       "        vertical-align: top;\n",
       "    }\n",
       "\n",
       "    .dataframe thead th {\n",
       "        text-align: right;\n",
       "    }\n",
       "</style>\n",
       "<table border=\"1\" class=\"dataframe\">\n",
       "  <thead>\n",
       "    <tr style=\"text-align: right;\">\n",
       "      <th></th>\n",
       "      <th>微博内容</th>\n",
       "    </tr>\n",
       "  </thead>\n",
       "  <tbody>\n",
       "    <tr>\n",
       "      <th>count</th>\n",
       "      <td>983</td>\n",
       "    </tr>\n",
       "    <tr>\n",
       "      <th>unique</th>\n",
       "      <td>885</td>\n",
       "    </tr>\n",
       "    <tr>\n",
       "      <th>top</th>\n",
       "      <td>恭喜#叛逆者# 入围第33届电视剧“飞天奖”！向光前行，步履坚定！感谢组委会的认可和观众们的...</td>\n",
       "    </tr>\n",
       "    <tr>\n",
       "      <th>freq</th>\n",
       "      <td>2</td>\n",
       "    </tr>\n",
       "  </tbody>\n",
       "</table>\n",
       "</div>"
      ],
      "text/plain": [
       "                                                     微博内容\n",
       "count                                                 983\n",
       "unique                                                885\n",
       "top     恭喜#叛逆者# 入围第33届电视剧“飞天奖”！向光前行，步履坚定！感谢组委会的认可和观众们的...\n",
       "freq                                                    2"
      ]
     },
     "execution_count": 191,
     "metadata": {},
     "output_type": "execute_result"
    }
   ],
   "source": [
    "content=DataFrame(data['微博内容'])\n",
    "content.describe()"
   ]
  },
  {
   "cell_type": "code",
   "execution_count": 192,
   "id": "a572a541-7971-49c4-8a35-734252f3b295",
   "metadata": {},
   "outputs": [],
   "source": [
    "count_series={}\n",
    "total_series=['啊摇篮', '埃博拉前线', '安家', '百炼成钢', '大江大河2', '大决战', '大浪淘沙',\n",
    "                '大秦赋', '对手', '功勋',\n",
    "                '光荣与梦想', '和平之舟', '红旗渠',\n",
    "                '花荣叶茂', '江山如此多娇', '经山历海', '绝密使命', '跨过鸭绿江',\n",
    "                '理想照耀中国', '理想之城', '猎狐', '流金岁月', '叛逆者', '前行者',\n",
    "                '乔家的儿女', '清平乐', '三叉戟', '三十而已', '山海情', '扫黑风暴',\n",
    "                '石头花开', '突围', '湾区儿女', '王牌部队', '问天', '我们的新时代',\n",
    "                '我在他先挺好的', '香山叶正红', '小舍得', '刑警之海外行动', '巡回检查组',\n",
    "                '以家人之名', '在一起', '中流击水', '装台']\n",
    "#for i in range(len(data)):\n",
    "#    data[\"微博内容\"][i]\n",
    "#for i in range(len(total_series)):\n",
    "#    for n in range(len(data)): \n",
    "        \n",
    "#        if not total_series[i] in data['微博内容'][n]:\n",
    "#            count_series[total_series[i]]+=1\n",
    "#        count_series[total_series[i]]=0\n",
    "#print(count_series)\n",
    "            "
   ]
  },
  {
   "cell_type": "code",
   "execution_count": 193,
   "id": "8f0dbafe-3d8c-4d6a-97de-6eb2c8e715b4",
   "metadata": {},
   "outputs": [],
   "source": [
    "#剧集词频\n",
    "#转发数量\n",
    "#\n",
    "count_word={}\n",
    "count_repost={}\n",
    "index=[]\n",
    "for n in range(len(total_series)):\n",
    "    count_word[total_series[n]]=0\n",
    "    count_repost[total_series[n]]=0\n",
    "    for i in range(len(data)):\n",
    "      #  count[name]=0\n",
    "        if total_series[n] in data['微博内容'][i]:\n",
    "          #  index.append(i)\n",
    "            count_word[total_series[n]]+=1    \n",
    "            count_repost[total_series[n]]+=data['转发'][i]\n",
    "#count_word\n",
    "#count_repost"
   ]
  },
  {
   "cell_type": "code",
   "execution_count": 194,
   "id": "0f8d659e-a6f8-43a2-8efe-f3f8de16c303",
   "metadata": {},
   "outputs": [],
   "source": [
    "xiaozhan=[]\n",
    "for line in comment['微博 内容']:\n",
    "    if '肖战' in line:\n",
    "        xiaozhan.append(line)"
   ]
  },
  {
   "cell_type": "code",
   "execution_count": 203,
   "id": "48621499-6a2e-458d-959b-13d527e8ca9b",
   "metadata": {},
   "outputs": [],
   "source": [
    "all_xiaozhan=[]\n",
    "for x in xiaozhan:\n",
    "    all_xiaozhan.append(list(set(x.split())))\n",
    "data_split=DataFrame(all_xiaozhan)\n",
    "data_split.to_csv(\"data_split.csv\")"
   ]
  },
  {
   "cell_type": "code",
   "execution_count": 196,
   "id": "b882bb34-d01d-418f-b4e3-7cd34fd993bf",
   "metadata": {},
   "outputs": [],
   "source": [
    "#肖战的相关词词频统计\n",
    "xiaozhan_count={}\n",
    "for line in all_xiaozhan:\n",
    "    for element in line:\n",
    "        if len(element)>1:\n",
    "            if element not in xiaozhan_count:\n",
    "                xiaozhan_count[element] =0\n",
    "            xiaozhan_count[element] +=1\n",
    "                \n",
    "#xiaozhan_count"
   ]
  },
  {
   "cell_type": "code",
   "execution_count": 197,
   "id": "983d4ed8-724b-458e-aef4-09d9ff435c00",
   "metadata": {},
   "outputs": [],
   "source": [
    "\n",
    "split_xiaozhan=[]\n",
    "for line in all_xiaozhan:\n",
    "    for element in line:\n",
    "        if element != '肖战'and '肖' and '战':\n",
    "            split_xiaozhan\n",
    "            "
   ]
  },
  {
   "cell_type": "code",
   "execution_count": null,
   "id": "b7c2f9ff-7724-499d-9ea7-dd48733fdecf",
   "metadata": {},
   "outputs": [],
   "source": []
  },
  {
   "cell_type": "code",
   "execution_count": null,
   "id": "adecf26e-0a7b-4c07-8a7a-65ce0d02ff8a",
   "metadata": {},
   "outputs": [],
   "source": []
  },
  {
   "cell_type": "code",
   "execution_count": null,
   "id": "e5349758-a0b0-4c84-a91a-75d959c816b2",
   "metadata": {},
   "outputs": [],
   "source": []
  },
  {
   "cell_type": "code",
   "execution_count": null,
   "id": "8e4880cf-0056-4460-819d-ad30a629a29b",
   "metadata": {},
   "outputs": [],
   "source": []
  },
  {
   "cell_type": "code",
   "execution_count": null,
   "id": "8a77d9ac-46fe-4870-9f08-6c6f7bb68feb",
   "metadata": {},
   "outputs": [],
   "source": []
  }
 ],
 "metadata": {
  "kernelspec": {
   "display_name": "Python 3 (ipykernel)",
   "language": "python",
   "name": "python3"
  },
  "language_info": {
   "codemirror_mode": {
    "name": "ipython",
    "version": 3
   },
   "file_extension": ".py",
   "mimetype": "text/x-python",
   "name": "python",
   "nbconvert_exporter": "python",
   "pygments_lexer": "ipython3",
   "version": "3.8.10"
  }
 },
 "nbformat": 4,
 "nbformat_minor": 5
}
